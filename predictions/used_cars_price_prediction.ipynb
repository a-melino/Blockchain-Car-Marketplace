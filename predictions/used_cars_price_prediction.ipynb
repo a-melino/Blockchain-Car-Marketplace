{
 "cells": [
  {
   "cell_type": "code",
   "execution_count": 8,
   "id": "ec8dff3e-eff8-4c9e-90d7-19b488cf789b",
   "metadata": {
    "tags": []
   },
   "outputs": [],
   "source": [
    "# Import the required libraries and dependencies\n",
    "import pandas as pd\n",
    "import numpy as np\n",
    "from pathlib import Path\n",
    "import hvplot.pandas\n",
    "from datetime import datetime"
   ]
  },
  {
   "cell_type": "markdown",
   "id": "a96bf2d0-acd5-4d40-a77f-4a949fe36254",
   "metadata": {},
   "source": [
    "# Used Cars Price Prediction ML Model"
   ]
  },
  {
   "cell_type": "code",
   "execution_count": 9,
   "id": "5ccd0a8f-29b1-4946-8fda-0abff498eaaa",
   "metadata": {
    "tags": []
   },
   "outputs": [
    {
     "data": {
      "text/html": [
       "<div>\n",
       "<style scoped>\n",
       "    .dataframe tbody tr th:only-of-type {\n",
       "        vertical-align: middle;\n",
       "    }\n",
       "\n",
       "    .dataframe tbody tr th {\n",
       "        vertical-align: top;\n",
       "    }\n",
       "\n",
       "    .dataframe thead th {\n",
       "        text-align: right;\n",
       "    }\n",
       "</style>\n",
       "<table border=\"1\" class=\"dataframe\">\n",
       "  <thead>\n",
       "    <tr style=\"text-align: right;\">\n",
       "      <th></th>\n",
       "      <th>brand</th>\n",
       "      <th>model</th>\n",
       "      <th>model_year</th>\n",
       "      <th>milage</th>\n",
       "      <th>fuel_type</th>\n",
       "      <th>engine</th>\n",
       "      <th>transmission</th>\n",
       "      <th>ext_col</th>\n",
       "      <th>int_col</th>\n",
       "      <th>accident</th>\n",
       "      <th>clean_title</th>\n",
       "      <th>price</th>\n",
       "    </tr>\n",
       "  </thead>\n",
       "  <tbody>\n",
       "    <tr>\n",
       "      <th>0</th>\n",
       "      <td>Ford</td>\n",
       "      <td>Utility Police Interceptor Base</td>\n",
       "      <td>2013</td>\n",
       "      <td>51,000 mi.</td>\n",
       "      <td>E85 Flex Fuel</td>\n",
       "      <td>300.0HP 3.7L V6 Cylinder Engine Flex Fuel Capa...</td>\n",
       "      <td>6-Speed A/T</td>\n",
       "      <td>Black</td>\n",
       "      <td>Black</td>\n",
       "      <td>At least 1 accident or damage reported</td>\n",
       "      <td>Yes</td>\n",
       "      <td>$10,300</td>\n",
       "    </tr>\n",
       "    <tr>\n",
       "      <th>1</th>\n",
       "      <td>Hyundai</td>\n",
       "      <td>Palisade SEL</td>\n",
       "      <td>2021</td>\n",
       "      <td>34,742 mi.</td>\n",
       "      <td>Gasoline</td>\n",
       "      <td>3.8L V6 24V GDI DOHC</td>\n",
       "      <td>8-Speed Automatic</td>\n",
       "      <td>Moonlight Cloud</td>\n",
       "      <td>Gray</td>\n",
       "      <td>At least 1 accident or damage reported</td>\n",
       "      <td>Yes</td>\n",
       "      <td>$38,005</td>\n",
       "    </tr>\n",
       "    <tr>\n",
       "      <th>2</th>\n",
       "      <td>Lexus</td>\n",
       "      <td>RX 350 RX 350</td>\n",
       "      <td>2022</td>\n",
       "      <td>22,372 mi.</td>\n",
       "      <td>Gasoline</td>\n",
       "      <td>3.5 Liter DOHC</td>\n",
       "      <td>Automatic</td>\n",
       "      <td>Blue</td>\n",
       "      <td>Black</td>\n",
       "      <td>None reported</td>\n",
       "      <td>NaN</td>\n",
       "      <td>$54,598</td>\n",
       "    </tr>\n",
       "    <tr>\n",
       "      <th>3</th>\n",
       "      <td>INFINITI</td>\n",
       "      <td>Q50 Hybrid Sport</td>\n",
       "      <td>2015</td>\n",
       "      <td>88,900 mi.</td>\n",
       "      <td>Hybrid</td>\n",
       "      <td>354.0HP 3.5L V6 Cylinder Engine Gas/Electric H...</td>\n",
       "      <td>7-Speed A/T</td>\n",
       "      <td>Black</td>\n",
       "      <td>Black</td>\n",
       "      <td>None reported</td>\n",
       "      <td>Yes</td>\n",
       "      <td>$15,500</td>\n",
       "    </tr>\n",
       "    <tr>\n",
       "      <th>4</th>\n",
       "      <td>Audi</td>\n",
       "      <td>Q3 45 S line Premium Plus</td>\n",
       "      <td>2021</td>\n",
       "      <td>9,835 mi.</td>\n",
       "      <td>Gasoline</td>\n",
       "      <td>2.0L I4 16V GDI DOHC Turbo</td>\n",
       "      <td>8-Speed Automatic</td>\n",
       "      <td>Glacier White Metallic</td>\n",
       "      <td>Black</td>\n",
       "      <td>None reported</td>\n",
       "      <td>NaN</td>\n",
       "      <td>$34,999</td>\n",
       "    </tr>\n",
       "    <tr>\n",
       "      <th>...</th>\n",
       "      <td>...</td>\n",
       "      <td>...</td>\n",
       "      <td>...</td>\n",
       "      <td>...</td>\n",
       "      <td>...</td>\n",
       "      <td>...</td>\n",
       "      <td>...</td>\n",
       "      <td>...</td>\n",
       "      <td>...</td>\n",
       "      <td>...</td>\n",
       "      <td>...</td>\n",
       "      <td>...</td>\n",
       "    </tr>\n",
       "    <tr>\n",
       "      <th>4004</th>\n",
       "      <td>Bentley</td>\n",
       "      <td>Continental GT Speed</td>\n",
       "      <td>2023</td>\n",
       "      <td>714 mi.</td>\n",
       "      <td>Gasoline</td>\n",
       "      <td>6.0L W12 48V PDI DOHC Twin Turbo</td>\n",
       "      <td>8-Speed Automatic with Auto-Shift</td>\n",
       "      <td>C / C</td>\n",
       "      <td>Hotspur</td>\n",
       "      <td>None reported</td>\n",
       "      <td>Yes</td>\n",
       "      <td>$349,950</td>\n",
       "    </tr>\n",
       "    <tr>\n",
       "      <th>4005</th>\n",
       "      <td>Audi</td>\n",
       "      <td>S4 3.0T Premium Plus</td>\n",
       "      <td>2022</td>\n",
       "      <td>10,900 mi.</td>\n",
       "      <td>Gasoline</td>\n",
       "      <td>349.0HP 3.0L V6 Cylinder Engine Gasoline Fuel</td>\n",
       "      <td>Transmission w/Dual Shift Mode</td>\n",
       "      <td>Black</td>\n",
       "      <td>Black</td>\n",
       "      <td>None reported</td>\n",
       "      <td>Yes</td>\n",
       "      <td>$53,900</td>\n",
       "    </tr>\n",
       "    <tr>\n",
       "      <th>4006</th>\n",
       "      <td>Porsche</td>\n",
       "      <td>Taycan</td>\n",
       "      <td>2022</td>\n",
       "      <td>2,116 mi.</td>\n",
       "      <td>NaN</td>\n",
       "      <td>Electric</td>\n",
       "      <td>Automatic</td>\n",
       "      <td>Black</td>\n",
       "      <td>Black</td>\n",
       "      <td>None reported</td>\n",
       "      <td>NaN</td>\n",
       "      <td>$90,998</td>\n",
       "    </tr>\n",
       "    <tr>\n",
       "      <th>4007</th>\n",
       "      <td>Ford</td>\n",
       "      <td>F-150 Raptor</td>\n",
       "      <td>2020</td>\n",
       "      <td>33,000 mi.</td>\n",
       "      <td>Gasoline</td>\n",
       "      <td>450.0HP 3.5L V6 Cylinder Engine Gasoline Fuel</td>\n",
       "      <td>A/T</td>\n",
       "      <td>Blue</td>\n",
       "      <td>Black</td>\n",
       "      <td>None reported</td>\n",
       "      <td>Yes</td>\n",
       "      <td>$62,999</td>\n",
       "    </tr>\n",
       "    <tr>\n",
       "      <th>4008</th>\n",
       "      <td>BMW</td>\n",
       "      <td>X3 xDrive30i</td>\n",
       "      <td>2020</td>\n",
       "      <td>43,000 mi.</td>\n",
       "      <td>Gasoline</td>\n",
       "      <td>248.0HP 2.0L 4 Cylinder Engine Gasoline Fuel</td>\n",
       "      <td>A/T</td>\n",
       "      <td>Gray</td>\n",
       "      <td>Brown</td>\n",
       "      <td>At least 1 accident or damage reported</td>\n",
       "      <td>Yes</td>\n",
       "      <td>$40,000</td>\n",
       "    </tr>\n",
       "  </tbody>\n",
       "</table>\n",
       "<p>4009 rows × 12 columns</p>\n",
       "</div>"
      ],
      "text/plain": [
       "         brand                            model  model_year      milage  \\\n",
       "0         Ford  Utility Police Interceptor Base        2013  51,000 mi.   \n",
       "1      Hyundai                     Palisade SEL        2021  34,742 mi.   \n",
       "2        Lexus                    RX 350 RX 350        2022  22,372 mi.   \n",
       "3     INFINITI                 Q50 Hybrid Sport        2015  88,900 mi.   \n",
       "4         Audi        Q3 45 S line Premium Plus        2021   9,835 mi.   \n",
       "...        ...                              ...         ...         ...   \n",
       "4004   Bentley             Continental GT Speed        2023     714 mi.   \n",
       "4005      Audi             S4 3.0T Premium Plus        2022  10,900 mi.   \n",
       "4006   Porsche                           Taycan        2022   2,116 mi.   \n",
       "4007      Ford                     F-150 Raptor        2020  33,000 mi.   \n",
       "4008       BMW                     X3 xDrive30i        2020  43,000 mi.   \n",
       "\n",
       "          fuel_type                                             engine  \\\n",
       "0     E85 Flex Fuel  300.0HP 3.7L V6 Cylinder Engine Flex Fuel Capa...   \n",
       "1          Gasoline                               3.8L V6 24V GDI DOHC   \n",
       "2          Gasoline                                     3.5 Liter DOHC   \n",
       "3            Hybrid  354.0HP 3.5L V6 Cylinder Engine Gas/Electric H...   \n",
       "4          Gasoline                         2.0L I4 16V GDI DOHC Turbo   \n",
       "...             ...                                                ...   \n",
       "4004       Gasoline                   6.0L W12 48V PDI DOHC Twin Turbo   \n",
       "4005       Gasoline      349.0HP 3.0L V6 Cylinder Engine Gasoline Fuel   \n",
       "4006            NaN                                           Electric   \n",
       "4007       Gasoline      450.0HP 3.5L V6 Cylinder Engine Gasoline Fuel   \n",
       "4008       Gasoline       248.0HP 2.0L 4 Cylinder Engine Gasoline Fuel   \n",
       "\n",
       "                           transmission                 ext_col  int_col  \\\n",
       "0                           6-Speed A/T                   Black    Black   \n",
       "1                     8-Speed Automatic         Moonlight Cloud     Gray   \n",
       "2                             Automatic                    Blue    Black   \n",
       "3                           7-Speed A/T                   Black    Black   \n",
       "4                     8-Speed Automatic  Glacier White Metallic    Black   \n",
       "...                                 ...                     ...      ...   \n",
       "4004  8-Speed Automatic with Auto-Shift                   C / C  Hotspur   \n",
       "4005     Transmission w/Dual Shift Mode                   Black    Black   \n",
       "4006                          Automatic                   Black    Black   \n",
       "4007                                A/T                    Blue    Black   \n",
       "4008                                A/T                    Gray    Brown   \n",
       "\n",
       "                                    accident clean_title     price  \n",
       "0     At least 1 accident or damage reported         Yes   $10,300  \n",
       "1     At least 1 accident or damage reported         Yes   $38,005  \n",
       "2                              None reported         NaN   $54,598  \n",
       "3                              None reported         Yes   $15,500  \n",
       "4                              None reported         NaN   $34,999  \n",
       "...                                      ...         ...       ...  \n",
       "4004                           None reported         Yes  $349,950  \n",
       "4005                           None reported         Yes   $53,900  \n",
       "4006                           None reported         NaN   $90,998  \n",
       "4007                           None reported         Yes   $62,999  \n",
       "4008  At least 1 accident or damage reported         Yes   $40,000  \n",
       "\n",
       "[4009 rows x 12 columns]"
      ]
     },
     "metadata": {},
     "output_type": "display_data"
    }
   ],
   "source": [
    "# Read the csv into a DataFrame\n",
    "used_cars_df = pd.read_csv(Path(\"./data/used_cars.csv\"))\n",
    "\n",
    "# Show the used_cars DataFrame\n",
    "display(used_cars_df)"
   ]
  },
  {
   "cell_type": "markdown",
   "id": "439af66b-1083-4fa2-8280-51cb82639e92",
   "metadata": {},
   "source": [
    "# View Each Feature and Their Values"
   ]
  },
  {
   "cell_type": "code",
   "execution_count": 10,
   "id": "12a96e6b-cbe2-4f7d-a163-5e829403ca49",
   "metadata": {
    "tags": []
   },
   "outputs": [
    {
     "data": {
      "text/plain": [
       "array(['Ford', 'Hyundai', 'Lexus', 'INFINITI', 'Audi', 'Acura', 'BMW',\n",
       "       'Tesla', 'Land', 'Aston', 'Toyota', 'Lincoln', 'Jaguar',\n",
       "       'Mercedes-Benz', 'Dodge', 'Nissan', 'Genesis', 'Chevrolet', 'Kia',\n",
       "       'Jeep', 'Bentley', 'Honda', 'Lucid', 'MINI', 'Porsche', 'Hummer',\n",
       "       'Chrysler', 'Volvo', 'Cadillac', 'Lamborghini', 'Maserati',\n",
       "       'Volkswagen', 'Subaru', 'Rivian', 'GMC', 'RAM', 'Alfa', 'Ferrari',\n",
       "       'Scion', 'Mitsubishi', 'Mazda', 'Saturn', 'Bugatti', 'Polestar',\n",
       "       'Rolls-Royce', 'McLaren', 'Buick', 'Lotus', 'Pontiac', 'FIAT',\n",
       "       'Karma', 'Saab', 'Mercury', 'Plymouth', 'smart', 'Maybach',\n",
       "       'Suzuki'], dtype=object)"
      ]
     },
     "metadata": {},
     "output_type": "display_data"
    },
    {
     "data": {
      "text/plain": [
       "57"
      ]
     },
     "metadata": {},
     "output_type": "display_data"
    }
   ],
   "source": [
    "display(used_cars_df[\"brand\"].unique())\n",
    "display(len(used_cars_df[\"brand\"].unique()))"
   ]
  },
  {
   "cell_type": "code",
   "execution_count": 11,
   "id": "0ae4d944-754d-4c53-92a4-e32a839157dc",
   "metadata": {
    "tags": []
   },
   "outputs": [
    {
     "data": {
      "text/plain": [
       "array(['Utility Police Interceptor Base', 'Palisade SEL', 'RX 350 RX 350',\n",
       "       ..., 'Martin DB7 Vantage Volante', 'Impala 2LZ', 'Taycan'],\n",
       "      dtype=object)"
      ]
     },
     "metadata": {},
     "output_type": "display_data"
    },
    {
     "data": {
      "text/plain": [
       "1898"
      ]
     },
     "metadata": {},
     "output_type": "display_data"
    }
   ],
   "source": [
    "display(used_cars_df[\"model\"].unique())\n",
    "display(len(used_cars_df[\"model\"].unique()))"
   ]
  },
  {
   "cell_type": "code",
   "execution_count": 12,
   "id": "030426f6-060a-4963-b402-910f5a91b525",
   "metadata": {
    "tags": []
   },
   "outputs": [
    {
     "data": {
      "text/plain": [
       "array([2013, 2021, 2022, 2015, 2016, 2017, 2001, 2020, 2019, 2003, 2018,\n",
       "       2023, 2000, 2006, 2011, 2012, 2007, 2014, 2005, 2009, 2010, 2004,\n",
       "       2008, 1997, 1999, 1993, 2002, 1998, 2024, 1996, 1974, 1992, 1995,\n",
       "       1994], dtype=int64)"
      ]
     },
     "metadata": {},
     "output_type": "display_data"
    },
    {
     "data": {
      "text/plain": [
       "34"
      ]
     },
     "metadata": {},
     "output_type": "display_data"
    }
   ],
   "source": [
    "display(used_cars_df[\"model_year\"].unique())\n",
    "display(len(used_cars_df[\"model_year\"].unique()))"
   ]
  },
  {
   "cell_type": "code",
   "execution_count": 13,
   "id": "1ba4bcc6-bf8c-492b-b064-9df5e2b5d528",
   "metadata": {
    "tags": []
   },
   "outputs": [
    {
     "data": {
      "text/plain": [
       "array(['51,000 mi.', '34,742 mi.', '22,372 mi.', ..., '53,705 mi.',\n",
       "       '714 mi.', '2,116 mi.'], dtype=object)"
      ]
     },
     "metadata": {},
     "output_type": "display_data"
    },
    {
     "data": {
      "text/plain": [
       "2818"
      ]
     },
     "metadata": {},
     "output_type": "display_data"
    }
   ],
   "source": [
    "display(used_cars_df[\"milage\"].unique())\n",
    "display(len(used_cars_df[\"milage\"].unique()))"
   ]
  },
  {
   "cell_type": "code",
   "execution_count": 14,
   "id": "859e04e5-da68-4f26-8b21-87193229d216",
   "metadata": {
    "tags": []
   },
   "outputs": [
    {
     "data": {
      "text/plain": [
       "array(['E85 Flex Fuel', 'Gasoline', 'Hybrid', nan, 'Diesel',\n",
       "       'Plug-In Hybrid', '–', 'not supported'], dtype=object)"
      ]
     },
     "metadata": {},
     "output_type": "display_data"
    },
    {
     "data": {
      "text/plain": [
       "8"
      ]
     },
     "metadata": {},
     "output_type": "display_data"
    }
   ],
   "source": [
    "display(used_cars_df[\"fuel_type\"].unique())\n",
    "display(len(used_cars_df[\"fuel_type\"].unique()))"
   ]
  },
  {
   "cell_type": "code",
   "execution_count": 15,
   "id": "5dda56e0-a82e-4b17-913b-999684391924",
   "metadata": {
    "tags": []
   },
   "outputs": [
    {
     "data": {
      "text/plain": [
       "array(['300.0HP 3.7L V6 Cylinder Engine Flex Fuel Capability',\n",
       "       '3.8L V6 24V GDI DOHC', '3.5 Liter DOHC', ...,\n",
       "       '136.0HP 1.8L 4 Cylinder Engine Gasoline Fuel',\n",
       "       '270.0HP 2.0L 4 Cylinder Engine Gasoline Fuel',\n",
       "       '420.0HP 5.9L 12 Cylinder Engine Gasoline Fuel'], dtype=object)"
      ]
     },
     "metadata": {},
     "output_type": "display_data"
    },
    {
     "data": {
      "text/plain": [
       "1146"
      ]
     },
     "metadata": {},
     "output_type": "display_data"
    }
   ],
   "source": [
    "display(used_cars_df[\"engine\"].unique())\n",
    "display(len(used_cars_df[\"engine\"].unique()))"
   ]
  },
  {
   "cell_type": "code",
   "execution_count": 16,
   "id": "570edecb-1b67-4627-bd98-7559e0f10964",
   "metadata": {
    "tags": []
   },
   "outputs": [
    {
     "data": {
      "text/plain": [
       "array(['6-Speed A/T', '8-Speed Automatic', 'Automatic', '7-Speed A/T',\n",
       "       'F', 'A/T', '8-Speed A/T', 'Transmission w/Dual Shift Mode',\n",
       "       '9-Speed Automatic', '6-Speed M/T', '10-Speed A/T', '9-Speed A/T',\n",
       "       '5-Speed A/T', '1-Speed A/T', 'Automatic CVT',\n",
       "       '7-Speed Automatic with Auto-Shift', 'CVT-F', 'M/T',\n",
       "       '6-Speed Automatic with Auto-Shift', '10-Speed Automatic',\n",
       "       'CVT Transmission', '4-Speed A/T', '6-Speed Automatic',\n",
       "       '4-Speed Automatic', '7-Speed M/T',\n",
       "       '8-Speed Automatic with Auto-Shift', '5-Speed Automatic',\n",
       "       '8-SPEED AT', '1-Speed Automatic', '5-Speed M/T', 'Manual',\n",
       "       '6-Speed Manual', 'Variable', '2', '7-Speed Manual',\n",
       "       'Automatic, 9-Spd 9G-Tronic', 'Automatic, 8-Spd',\n",
       "       'Automatic, 8-Spd Sport w/Sport & Manual Modes', '–',\n",
       "       'Auto, 6-Spd w/CmdShft', 'Transmission Overdrive Switch',\n",
       "       '7-Speed Automatic', 'Automatic, 8-Spd PDK Dual-Clutch',\n",
       "       'Automatic, 8-Spd M STEPTRONIC w/Drivelogic, Sport & Manual Modes',\n",
       "       'Automatic, 8-Spd Dual-Clutch', '6-Speed',\n",
       "       'Single-Speed Fixed Gear', 'Automatic, 10-Spd',\n",
       "       '2-Speed Automatic', '7-Speed',\n",
       "       'Automatic, 7-Spd S tronic Dual-Clutch', 'Manual, 6-Spd',\n",
       "       '6-Speed Electronically Controlled Automatic with O',\n",
       "       '6 Speed At/Mt', '8-SPEED A/T',\n",
       "       '10-Speed Automatic with Overdrive', '7-Speed DCT Automatic',\n",
       "       '9-Speed Automatic with Auto-Shift',\n",
       "       'SCHEDULED FOR OR IN PRODUCTION', '2-Speed A/T', '6 Speed Mt',\n",
       "       '8-Speed Manual'], dtype=object)"
      ]
     },
     "metadata": {},
     "output_type": "display_data"
    },
    {
     "data": {
      "text/plain": [
       "62"
      ]
     },
     "metadata": {},
     "output_type": "display_data"
    }
   ],
   "source": [
    "display(used_cars_df[\"transmission\"].unique())\n",
    "display(len(used_cars_df[\"transmission\"].unique()))"
   ]
  },
  {
   "cell_type": "code",
   "execution_count": 17,
   "id": "0e1487a4-d6ab-483a-ac58-fb38063dbaef",
   "metadata": {
    "tags": []
   },
   "outputs": [
    {
     "data": {
      "text/plain": [
       "array(['Black', 'Moonlight Cloud', 'Blue', 'Glacier White Metallic',\n",
       "       'Silver', 'Green', 'Fuji White', 'Yellow', 'White', 'Gray',\n",
       "       'Purple', 'Iconic Silver Metallic', 'Mythos Black Metallic', 'Red',\n",
       "       'Gold', 'Lunar Silver Metallic', 'Mountain Air Metallic',\n",
       "       'Caspian Blue', 'Tango Red Metallic', '–', 'Alpine White',\n",
       "       'BLU ELEOS', 'Horizon Blue', 'Granite Crystal Clearcoat Metallic',\n",
       "       'Orange', 'Beige', 'Rift Metallic', 'Atomic Silver',\n",
       "       'Summit White', 'Imperial Blue Metallic',\n",
       "       'Magnetic Gray Clearcoat', 'Bright White Clearcoat',\n",
       "       'Typhoon Gray', 'Crystal Black Silica', 'Arctic Gray Metallic',\n",
       "       'Selenite Grey Metallic', 'Ultra Black', 'Lunare White Metallic',\n",
       "       'Hyper Red', 'Daytona Gray Pearl Effect', 'Vik Black',\n",
       "       'Pacific Blue Metallic', 'Obsidian Black Metallic',\n",
       "       'Silver Ice Metallic', 'Sonic Silver Metallic', 'Nightfall Mica',\n",
       "       'Apex Blue', 'Go Mango!', 'Ingot Silver Metallic',\n",
       "       'Midnight Black Metallic', 'Black Clearcoat', 'Thunder Gray',\n",
       "       'Bianco Monocerus', 'Verde', 'Wind Chill Pearl', 'Mythos Black',\n",
       "       'Patriot Blue Pearlcoat', 'Black Cherry', 'Yulong White',\n",
       "       'Donington Grey Metallic', 'Ruby Red Metallic Tinted Clearcoat',\n",
       "       'Platinum Quartz Metallic', 'Matador Red Metallic', 'Blu',\n",
       "       'Mosaic Black Metallic', 'Jungle Green', 'BLACK',\n",
       "       'Deep Crystal Blue Mica', 'Beluga Black', 'Eiger Grey',\n",
       "       'Ebony Black', 'Brown', 'Indus Silver', 'Ibis White',\n",
       "       'Bianco Icarus Metallic', 'Infrared Tintcoat', 'Midnight Black',\n",
       "       'Phytonic Blue Metallic', 'Quartz White',\n",
       "       'Rapid Red Metallic Tinted Clearcoat', 'Cobra Beige Metallic',\n",
       "       'Pure White', 'Snow White Pearl', 'DB Black Clearcoat',\n",
       "       'Firenze Red Metallic', 'Anodized Blue Metallic',\n",
       "       'MANUFAKTUR Diamond White Bright', 'Santorin Black', 'Glacier',\n",
       "       'Delmonico Red Pearlcoat', 'Brilliant Black',\n",
       "       'Magnetite Black Metallic', 'Carpathian Grey Premium Metallic',\n",
       "       'Majestic Black Pearl', 'Northsky Blue Metallic', 'Baltic Gray',\n",
       "       'Machine Gray Metallic', 'Twilight Black', 'Pearl White',\n",
       "       'Diamond Black', 'Maroon', 'Firecracker Red Clearcoat',\n",
       "       'Oxford White', 'Glacier White', 'Flame Red Clearcoat',\n",
       "       'White Clearcoat', 'Ice', 'Silver Zynith', 'Silky Silver',\n",
       "       'Ametrin Metallic', 'Deep Black Pearl Effect', 'Shimmering Silver',\n",
       "       'Gecko Pearlcoat', 'Onyx', 'Rosso Mars Metallic',\n",
       "       'Shoreline Blue Pearl', 'Santorini Black',\n",
       "       'White Platinum Tri-Coat Metallic', 'Sparkling Silver', 'Chalk',\n",
       "       'BLUE', 'Dazzling White', 'Santorini Black Metallic',\n",
       "       'Selenite Gray Metallic', 'Metallic', 'Ebony Twilight Metallic',\n",
       "       'Polymetal Gray Metallic', 'Oryx White Prl', 'Black Forest Green',\n",
       "       'Gun Metallic', 'Jet Black Mica', 'Dark Gray Metallic',\n",
       "       'Firenze Red', 'Glacial White Pearl',\n",
       "       'designo Diamond White Metallic', 'Blue Metallic',\n",
       "       'Isle of Man Green Metallic', 'Black Noir Pearl',\n",
       "       'Volcano Grey Metallic', 'Soul Red Crystal Metallic', 'Dark Moss',\n",
       "       'Passion Red', 'Typhoon Gray Metallic', 'Onyx Black',\n",
       "       'Redline Red', 'Navarra Blue Metallic',\n",
       "       'Brands Hatch Gray Metallic',\n",
       "       'Daytona Gray Pearl Effect w/ Black Roof', 'Hampton Gray',\n",
       "       'Ultra White', 'Hydro Blue Pearlcoat', 'Sandstone Metallic',\n",
       "       'Portofino Blue Metallic', 'Sangria Red', 'Magnetic Metallic',\n",
       "       'Tan', 'Platinum White Pearl', 'designo Diamond White',\n",
       "       'Anthracite Blue Metallic', 'Velvet Red Pearlcoat', 'Silver Mist',\n",
       "       'Antimatter Blue Metallic', 'Cirrus Silver Metallic', 'Pink',\n",
       "       'Cayenne Red Tintcoat', 'Garnet Red Metallic', 'Black Obsidian',\n",
       "       'Pristine White', 'Nebula Gray Pearl', 'Super White',\n",
       "       'Gentian Blue Metallic', 'Midnight Blue Metallic', 'Yulong',\n",
       "       'Rosso Corsa', 'Matte White', 'Navarra Blue', 'Silver Radiance',\n",
       "       'Iridium Metallic', 'Magnetic Black', 'Chronos Gray Metallic',\n",
       "       'Pacific Blue', 'Eiger Grey Metallic', 'White Diamond Tri-Coat',\n",
       "       'Stormy Sea', 'Dark Matter Metallic', 'Billet Clearcoat Metallic',\n",
       "       'Brilliant Silver Metallic', 'Liquid Platinum',\n",
       "       'Vulcano Black Metallic', 'Diamond White', 'White Frost Tri-Coat',\n",
       "       'Aventurine Green Metallic', 'Tempest', 'Alfa White', 'Star White',\n",
       "       'Titanium Silver', 'Caviar', 'Kodiak Brown Metallic',\n",
       "       'Majestic Plum Metallic', 'Navarre Blue', 'Bronze Dune Metallic',\n",
       "       'Radiant Red Metallic II', 'Dark Moon Blue Metallic',\n",
       "       'Manhattan Noir Metallic', 'Agate Black Metallic', 'Frozen White',\n",
       "       'Bianco Isis', 'Phantom Black Pearl Effect / Black Roof',\n",
       "       'Kemora Gray Metallic', 'Shadow Black', 'Graphite Grey Metallic',\n",
       "       'Emerald Green Metallic', 'Orca Black Metallic', 'Chronos Gray',\n",
       "       'Daytona Gray', 'Billet Silver Metallic Clearcoat',\n",
       "       'Sting Gray Clearcoat', 'Maximum Steel Metallic',\n",
       "       'Carbonized Gray Metallic', 'Ruby Flare Pearl',\n",
       "       'Crimson Red Tintcoat', 'Blueprint', 'Balloon White',\n",
       "       'Snowflake White Pearl', 'Crystal White Pearl',\n",
       "       'Quicksilver Metallic', 'Dark Sapphire', 'Carbon Black Metallic',\n",
       "       'Sunset Drift Chromaflair', 'Shadow Gray Metallic', 'Granite',\n",
       "       'Frozen Dark Silver Metallic', 'Black Sapphire Metallic',\n",
       "       'Quartz Blue Pearl', 'Iridescent Pearl Tricoat',\n",
       "       'Satin Steel Metallic', 'Aurora Black', 'Black Raven',\n",
       "       'Florett Silver', 'Cajun Red Tintcoat', 'Nero Daytona',\n",
       "       'Red Multi', 'Dark Ash Metallic', 'Rich Garnet Metallic',\n",
       "       'Nero Noctis', 'Scarlet Ember', 'Blue Reflex Mica',\n",
       "       'Snowflake White Pearl Metallic', 'Grigio Nimbus',\n",
       "       'Granite Crystal Metallic Clearcoat', 'Stellar Black Metallic',\n",
       "       'Dark Slate Metallic', 'Vega Blue', 'Stone Gray Metallic',\n",
       "       'Matador Red Mica', 'Barcelona Red', 'Bayside Blue',\n",
       "       'Tungsten Metallic', 'Mineral White', 'Siren Red Tintcoat',\n",
       "       'Octane Red Pearlcoat', 'Wolf Gray', 'Fountain Blue', 'Obsidian',\n",
       "       'Volcanic Orange', 'Dark Graphite Metallic', 'Designo Magno Matte',\n",
       "       'Phantom Black', 'Crystal Black', 'Red Quartz Tintcoat',\n",
       "       'Carrara White Metallic', 'Blue Caelum',\n",
       "       'designo Diamond White Bright', 'Iridium Silver Metallic',\n",
       "       'Mango Tango Pearlcoat', 'GT SILVER', 'Crystal Black Pearl',\n",
       "       'Eminent White Pearl', 'Lunar Blue Metallic',\n",
       "       'Magnetic Gray Metallic', 'Arctic White', 'Silver Flare Metallic',\n",
       "       'Emin White', 'Custom Color', 'Ember Pearlcoat',\n",
       "       'Twilight Blue Metallic', 'Burnished Bronze Metallic',\n",
       "       'Ice Silver Metallic', 'Magnetite Gray Metallic', 'Jupiter Red',\n",
       "       'Midnight Silver Metallic', 'Hellayella Clearcoat',\n",
       "       'Ironman Silver', 'Alta White', 'Python Green', 'China Blue',\n",
       "       'Portofino Gray', 'White Knuckle Clearcoat', 'Nautical Blue Pearl',\n",
       "       'Silician Yellow', 'Arancio Borealis', 'Rosso', 'Graphite Grey',\n",
       "       'Lizard Green', 'Super Black', 'Kinetic Blue',\n",
       "       'Electric Blue Metallic', 'Glacier Blue Metallic', 'Red Obsession',\n",
       "       'Platinum Gray Metallic', 'Remington Red Metallic',\n",
       "       'Reflex Silver', 'Deep Blue Metallic', 'Glacier Silver Metallic',\n",
       "       'Carpathian Grey', 'Nightfall Gray Metallic', 'Lunar Rock',\n",
       "       'Quartzite Grey Metallic', 'C / C'], dtype=object)"
      ]
     },
     "metadata": {},
     "output_type": "display_data"
    },
    {
     "data": {
      "text/plain": [
       "319"
      ]
     },
     "metadata": {},
     "output_type": "display_data"
    }
   ],
   "source": [
    "display(used_cars_df[\"ext_col\"].unique())\n",
    "display(len(used_cars_df[\"ext_col\"].unique()))"
   ]
  },
  {
   "cell_type": "code",
   "execution_count": 18,
   "id": "6c6bc012-3a45-4f9f-8d1c-89a49b213282",
   "metadata": {
    "tags": []
   },
   "outputs": [
    {
     "data": {
      "text/plain": [
       "array(['Black', 'Gray', 'Ebony.', 'Green', 'Pimento / Ebony', 'Brown',\n",
       "       'White', '–', 'Beige', 'Jet Black', 'Light Gray', 'Anthracite',\n",
       "       'Red', 'Nero Ade', 'Blue', 'Charcoal', 'Rioja Red',\n",
       "       'Canberra Beige/Black', 'Roast', 'Ivory / Ebony',\n",
       "       'Silk Beige/Black', 'Medium Pewter', 'Ice', 'Black / Express Red',\n",
       "       'Obsidian Black', 'Ebony', 'Orange', 'Caramel', 'Orchid',\n",
       "       'Graphite', 'Tan/Ebony', 'Cappuccino', 'Nero', 'Sahara Tan',\n",
       "       'BLACK', 'Hotspur', 'Blk', 'Black Onyx', 'Nougat Brown',\n",
       "       'Titan Black', 'Oyster W/Contrast', 'Silver',\n",
       "       'Macchiato Beige/Black', 'Sand Beige', 'Navy Pier', 'WHITE',\n",
       "       'Parchment.', 'Sarder Brown', 'Grace White', 'Cloud', 'Espresso',\n",
       "       'Mesa', 'Whisper Beige', 'Medium Dark Slate', 'Gold',\n",
       "       'Camel Leather', 'Tupelo', 'Black/Red', 'Parchment', 'Beluga Hide',\n",
       "       'Charles Blue', 'Global Black', 'Titan Black / Quarzit', 'Mocha',\n",
       "       'Portland', 'Medium Light Camel', 'Black / Saddle', 'Ash',\n",
       "       'Ebony / Pimento', 'Tan', 'Mistral Gray / Raven', 'Graystone',\n",
       "       'Satin Black', 'Sandstone', 'Medium Stone', 'ORANGE',\n",
       "       'Pimento Red w/Ebony', 'Macchiato', 'Ebony Black', 'Pearl Beige',\n",
       "       'Sakhir Orange', 'Kyalami Orange', 'Almond Beige',\n",
       "       'Medium Earth Gray', 'Diesel Gray / Black', 'Boulder', 'Walnut',\n",
       "       'Charcoal Black', 'Dark Auburn', 'Tan/Ebony/Ebony', 'Amber',\n",
       "       'Silk Beige/Espresso Brown', 'Black / Brown',\n",
       "       'Sakhir Orange/Black', 'Black / Stone Grey', 'AMG Black', 'Slate',\n",
       "       'BEIGE', 'Canberra Beige', 'Magma Red', 'Saiga Beige',\n",
       "       'Saddle Brown', 'Light Titanium', 'Dark Gray', 'Platinum',\n",
       "       'Ebony/Light Oyster Stitch', 'Shale', 'Red/Black', 'Agave Green',\n",
       "       'Cobalt Blue', 'Deep Cypress', 'Ceramic', 'Camel', 'Rhapsody Blue',\n",
       "       'Light Platinum / Jet Black', 'Shara Beige', 'Dark Galvanized',\n",
       "       'Giallo Taurus / Nero Ade', 'Yellow', 'Black w/Red Stitching',\n",
       "       'Black/Saddle Brown', 'Light Slate', 'Black/Gun Metal',\n",
       "       'White / Brown', 'Brandy', 'Mountain Brown', 'Linen', 'Porpoise',\n",
       "       'Aragon Brown', 'Oyster/Black', 'Gideon', 'Chestnut',\n",
       "       'Red / Black', 'Bianco Polar', 'Deep Garnet', 'Dark Ash',\n",
       "       'Ebony / Ebony Accents', 'Rock Gray', 'Cocoa / Dune', 'Beluga',\n",
       "       'Carbon Black', 'Sport', 'Medium Ash Gray', 'Black/Graphite',\n",
       "       'Macchiato/Magmagrey', 'Classic Red', 'Chateau',\n",
       "       'Graphite w/Gun Metal', 'Tension', 'Adrenaline Red',\n",
       "       'Hotspur Hide', 'Gray w/Blue Bolsters', 'Very Light Cashmere',\n",
       "       'Black / Gray', 'Deep Chestnut', 'Black / Graphite'], dtype=object)"
      ]
     },
     "metadata": {},
     "output_type": "display_data"
    },
    {
     "data": {
      "text/plain": [
       "156"
      ]
     },
     "metadata": {},
     "output_type": "display_data"
    }
   ],
   "source": [
    "display(used_cars_df[\"int_col\"].unique())\n",
    "display(len(used_cars_df[\"int_col\"].unique()))"
   ]
  },
  {
   "cell_type": "code",
   "execution_count": 19,
   "id": "72e32716-a1ba-4c25-9a69-f73df3a0d10f",
   "metadata": {
    "tags": []
   },
   "outputs": [
    {
     "data": {
      "text/plain": [
       "array(['At least 1 accident or damage reported', 'None reported', nan],\n",
       "      dtype=object)"
      ]
     },
     "metadata": {},
     "output_type": "display_data"
    },
    {
     "data": {
      "text/plain": [
       "3"
      ]
     },
     "metadata": {},
     "output_type": "display_data"
    }
   ],
   "source": [
    "display(used_cars_df[\"accident\"].unique())\n",
    "display(len(used_cars_df[\"accident\"].unique()))"
   ]
  },
  {
   "cell_type": "code",
   "execution_count": 20,
   "id": "a47fde41-f19c-4c7a-9549-92e86fac50cb",
   "metadata": {
    "tags": []
   },
   "outputs": [
    {
     "data": {
      "text/plain": [
       "array(['Yes', nan], dtype=object)"
      ]
     },
     "metadata": {},
     "output_type": "display_data"
    },
    {
     "data": {
      "text/plain": [
       "2"
      ]
     },
     "metadata": {},
     "output_type": "display_data"
    }
   ],
   "source": [
    "display(used_cars_df[\"clean_title\"].unique())\n",
    "display(len(used_cars_df[\"clean_title\"].unique()))"
   ]
  },
  {
   "cell_type": "code",
   "execution_count": 21,
   "id": "da9f7369-8491-4173-a236-fb65b926c2e2",
   "metadata": {
    "tags": []
   },
   "outputs": [
    {
     "data": {
      "text/plain": [
       "brand\n",
       "Ford             386\n",
       "BMW              375\n",
       "Mercedes-Benz    315\n",
       "Chevrolet        292\n",
       "Porsche          201\n",
       "Audi             200\n",
       "Toyota           199\n",
       "Lexus            163\n",
       "Jeep             143\n",
       "Land             130\n",
       "Nissan           116\n",
       "Cadillac         107\n",
       "RAM               91\n",
       "GMC               91\n",
       "Dodge             90\n",
       "Tesla             87\n",
       "Kia               76\n",
       "Hyundai           72\n",
       "Subaru            64\n",
       "Mazda             64\n",
       "Acura             64\n",
       "Honda             63\n",
       "INFINITI          59\n",
       "Volkswagen        59\n",
       "Lincoln           52\n",
       "Jaguar            47\n",
       "Volvo             38\n",
       "Maserati          34\n",
       "Bentley           33\n",
       "MINI              33\n",
       "Buick             30\n",
       "Chrysler          28\n",
       "Lamborghini       26\n",
       "Mitsubishi        20\n",
       "Genesis           20\n",
       "Alfa              19\n",
       "Rivian            17\n",
       "Hummer            16\n",
       "Pontiac           15\n",
       "Ferrari           12\n",
       "Rolls-Royce       11\n",
       "Aston              9\n",
       "Scion              6\n",
       "McLaren            6\n",
       "FIAT               5\n",
       "Saturn             5\n",
       "Lotus              4\n",
       "Mercury            3\n",
       "Lucid              3\n",
       "Karma              2\n",
       "Saab               2\n",
       "Bugatti            1\n",
       "Polestar           1\n",
       "Suzuki             1\n",
       "Plymouth           1\n",
       "Maybach            1\n",
       "smart              1\n",
       "Name: price, dtype: int64"
      ]
     },
     "execution_count": 21,
     "metadata": {},
     "output_type": "execute_result"
    }
   ],
   "source": [
    "# Count the number of cars listed for each brand\n",
    "used_cars_df.groupby([\"brand\"]).count()[\"price\"].sort_values(ascending = False)"
   ]
  },
  {
   "cell_type": "markdown",
   "id": "35115b15-f3d0-4e4d-9159-acc4567141cd",
   "metadata": {},
   "source": [
    "# Cleaning and Wrangling Data"
   ]
  },
  {
   "cell_type": "markdown",
   "id": "7bc99220-8cb5-479b-8161-455fbae0fccb",
   "metadata": {},
   "source": [
    "**TODO:**\n",
    "- Drop `model` from the ML model.*\n",
    "- Create a new feature called `age` where `age` = `current_year` - `model_year`, drop `model_year` from the ML model.\n",
    "- Replace `milage` with `kilometres` and make it continuous\n",
    "- Map `nan` in `fuel_type` to '-'\n",
    "- Create new features to breakdown the engine into engine_cylinders (2, 4, 6, 8...), engine_hp, engine_electric and engine_displacement\n",
    "- Create new features to breakdown the transmission into transmission_gears (6-speed, 8-speed...), and transmission_type (A/T, M/T, CVT, DCT) \n",
    "- Drop `ext_col` and `int_col` from the ML model\n",
    "- Map `nan` and 'None reported' in `accident` to 0, and 'At least 1 accident or damage reported' to 1.\n",
    "- Map 'Yes' in `clean_title` to 1, and nan to 0.\n",
    "- Convert `price` to be numeric.\n",
    "\n",
    "\\* Train one ML model with the car models and one without"
   ]
  },
  {
   "cell_type": "code",
   "execution_count": 22,
   "id": "af0e7346-2080-4d02-b73f-eaa4f55e1ba9",
   "metadata": {
    "tags": []
   },
   "outputs": [],
   "source": [
    "# Create a function to clean the DataFrame\n",
    "def clean_used_cars(used_cars_df):\n",
    "    cleaned_df = used_cars_df.copy()\n",
    "    \n",
    "    # Create age variable\n",
    "    cleaned_df[\"age\"] = datetime.now().year - cleaned_df[\"model_year\"]\n",
    "    \n",
    "    # Drop model_year\n",
    "    cleaned_df.drop(columns = [\"model_year\"], inplace = True)\n",
    "    \n",
    "    # Convert milage to kilometers and make it continuous\n",
    "    cleaned_df[\"kilometers\"] = cleaned_df[\"milage\"].apply(lambda x: round(float(x.split(\" \")[0].replace(\",\", \"\"))*1.609344))\n",
    "    \n",
    "    # Drop milage\n",
    "    cleaned_df.drop(columns = [\"milage\"], inplace = True)\n",
    "    \n",
    "    # Map nan fuel_type to \"–\"\n",
    "    cleaned_df[\"fuel_type\"] = cleaned_df[\"fuel_type\"].replace(np.nan, \"–\")\n",
    "    \n",
    "    # Map \"not supported\" fuel_type to \"–\"\n",
    "    cleaned_df[\"fuel_type\"] = cleaned_df[\"fuel_type\"].replace(\"not supported\", \"–\")\n",
    "    \n",
    "    ## Breakdown engine column\n",
    "    \n",
    "    # Get number of cylinders in the engine\n",
    "    cleaned_df[\"engine_cylinders\"] = cleaned_df[\"engine\"].apply(get_engine_cylinders)\n",
    "    \n",
    "    ### Determine the power output category of the engine\n",
    "    # Get number of HP the engine has\n",
    "    cleaned_df[\"engine_hp\"] = cleaned_df[\"engine\"].apply(get_engine_hp)\n",
    "    # Get engine power output given HP\n",
    "    cleaned_df[\"engine_power_output\"] = cleaned_df[\"engine_hp\"].apply(get_engine_power_output)\n",
    "    # Drop engine_hp\n",
    "    cleaned_df.drop(columns = [\"engine_hp\"], inplace = True)\n",
    "    \n",
    "    ### Determine if the car is full electric\n",
    "    # Determine if the car has a motor\n",
    "    cleaned_df[\"engine_motor\"] = cleaned_df[\"engine\"].apply(get_engine_motor)\n",
    "    # Determine if the car is a hybrid\n",
    "    cleaned_df[\"fuel_type_hybrid\"] = cleaned_df[\"fuel_type\"].apply(get_fuel_type_hybrid)\n",
    "    # Determine is the car is full electric\n",
    "    cleaned_df[\"electric\"] = cleaned_df[\"engine_motor\"] & ~(cleaned_df[\"fuel_type_hybrid\"])\n",
    "    # Drop engine_motor and fuel_type_hybrid\n",
    "    cleaned_df.drop(columns = [\"engine_motor\", \"fuel_type_hybrid\"], inplace = True)\n",
    "    \n",
    "    ### Determine the displacement size category of the engine\n",
    "    # Get displacement size of the engine\n",
    "    cleaned_df[\"engine_displacement_size\"] = cleaned_df[\"engine\"].apply(get_engine_displacement_size)\n",
    "    # Get displacement size category of the engine given displacement size\n",
    "    cleaned_df[\"engine_displacement\"] = cleaned_df[\"engine_displacement_size\"].apply(get_engine_displacement)\n",
    "    # Drop engine_displacement_size\n",
    "    cleaned_df.drop(columns = [\"engine_displacement_size\"], inplace = True)\n",
    "    \n",
    "    # Drop engine\n",
    "    cleaned_df.drop(columns = [\"engine\"], inplace = True)\n",
    "    \n",
    "    # Get number of gears in the transmission\n",
    "    cleaned_df[\"transmission_gears\"] = cleaned_df[\"transmission\"].apply(get_transmission_gears)\n",
    "    \n",
    "    # Determine the transmission type\n",
    "    cleaned_df[\"transmission_type\"] = cleaned_df[\"transmission\"].apply(get_transmission_type)\n",
    "    \n",
    "    # Drop transmission\n",
    "    cleaned_df.drop(columns = [\"transmission\"], inplace = True)\n",
    "    \n",
    "    # Drop ext_col and int_col\n",
    "    cleaned_df.drop(columns = [\"ext_col\", \"int_col\"], inplace = True)\n",
    "    \n",
    "    # Map `nan` and 'None reported' in `accident` to 0, and 'At least 1 accident or damage reported' to 1.\n",
    "    cleaned_df[\"accident\"] = cleaned_df[\"accident\"].apply(lambda x: 1 if x == \"At least 1 accident or damage reported\" else 0)\n",
    "    \n",
    "    # Map 'Yes' in `clean_title` to 1, and nan to 0.\n",
    "    cleaned_df[\"clean_title\"] = cleaned_df[\"clean_title\"].apply(lambda x: 1 if x == \"Yes\" else 0)\n",
    "    \n",
    "    # Convert price to be numeric\n",
    "    cleaned_df[\"price\"] = cleaned_df[\"price\"].apply(lambda x: float(x.replace(\",\", \"\").lstrip(\"$\")))\n",
    "    \n",
    "    return cleaned_df"
   ]
  },
  {
   "cell_type": "code",
   "execution_count": 23,
   "id": "9e3137d5-4cde-4a5e-aace-b7265ecdb442",
   "metadata": {
    "tags": []
   },
   "outputs": [],
   "source": [
    "# Create helper functions to clean the dataset\n",
    "\n",
    "# Create a function to get the number of cylinders an engine has\n",
    "def get_engine_cylinders(engine):\n",
    "    engine_cylinders = \"–\"\n",
    "    \n",
    "    engine_string = [x.lower() for x in engine.split()]\n",
    "    engine_configs = [\n",
    "        \"i3\", \"i4\", \"i5\", \"i6\", \"i8\",\n",
    "        \"i-3\", \"i-4\", \"i-5\", \"i-6\", \"i-8\",\n",
    "        \"v2\", \"v3\", \"v4\", \"v6\", \"v8\", \"v10\", \"v12\",\n",
    "        \"v-2\", \"v-3\", \"v-4\", \"v-6\", \"v-8\", \"v-10\", \"v-12\",\n",
    "        \"w8\", \"w12\", \"w16\",\n",
    "        \"w-8\", \"w-12\", \"w-16\",\n",
    "        \"h4\", \"h6\",\n",
    "        \"h-4\", \"h-6\"\n",
    "    ]\n",
    "    \n",
    "    if \"cylinder\" in engine_string:\n",
    "        i = engine_string.index(\"cylinder\")\n",
    "        if engine_string[i-1].isnumeric():\n",
    "            engine_cylinders = engine_string[i-1]\n",
    "        elif \"-\" in engine_string[i-1]:\n",
    "            engine_cylinders = engine_string[i-1][2:]\n",
    "        else:\n",
    "            engine_cylinders = engine_string[i-1][1:]\n",
    "    elif len(list(set(engine_string) & set(engine_configs))) == 1:\n",
    "        if \"-\" in list(set(engine_string) & set(engine_configs))[0]:\n",
    "            engine_cylinders = list(set(engine_string) & set(engine_configs))[0][2:]\n",
    "        else:\n",
    "            engine_cylinders = list(set(engine_string) & set(engine_configs))[0][1:]\n",
    "    else:\n",
    "        engine_cylinders = \"–\"\n",
    "    \n",
    "    return engine_cylinders\n",
    "\n",
    "# Create a function to determine the number of HP an engine has\n",
    "def get_engine_hp(engine):\n",
    "    engine_hp = 0.0\n",
    "    \n",
    "    engine_string = [x.lower() for x in engine.split()]\n",
    "    \n",
    "    if engine_string[0][-2:] == \"hp\":\n",
    "        engine_hp = float(engine_string[0][:-2])\n",
    "    else:\n",
    "        engine_hp = 0.0\n",
    "    \n",
    "    return engine_hp\n",
    "\n",
    "# Create a function to determine the power output of an engine\n",
    "def get_engine_power_output(engine_hp):\n",
    "    engine_power_output = \"–\"\n",
    "    \n",
    "    if engine_hp > 0 and engine_hp <= 150:\n",
    "        engine_power_output = \"low\"\n",
    "    elif engine_hp > 150 and engine_hp <= 300:\n",
    "        engine_power_output = \"medium\"\n",
    "    elif engine_hp > 300:\n",
    "        engine_power_output = \"high\"\n",
    "    else:\n",
    "        engine_power_output = \"–\"\n",
    "    \n",
    "    return engine_power_output\n",
    "\n",
    "# Create a function to determine if the car has a motor\n",
    "def get_engine_motor(engine):\n",
    "    engine_motor = 0\n",
    "    \n",
    "    engine_string = [x.lower() for x in engine.replace(\"/\", \" \").split()]\n",
    "    \n",
    "    if \"electric\" in engine_string or \"motor\" in engine_string or \"battery\" in engine_string:\n",
    "        engine_motor = 1\n",
    "    else:\n",
    "        engine_motor = 0\n",
    "    \n",
    "    return engine_motor\n",
    "\n",
    "# Create a function to determine if the car is a hybrid\n",
    "def get_fuel_type_hybrid(fuel_type):\n",
    "    fuel_type_hybrid = 0\n",
    "    \n",
    "    if fuel_type == \"Hybrid\" or fuel_type == \"Plug-In Hybrid\":\n",
    "        fuel_type_hybrid = 1\n",
    "    else:\n",
    "        fuel_type_hybrid = 0\n",
    "    \n",
    "    return fuel_type_hybrid\n",
    "\n",
    "# Create a function to determine the displacement size of the engine\n",
    "def get_engine_displacement_size(engine):\n",
    "    engine_displacement_size = 0.0\n",
    "    \n",
    "    engine_string = [x.lower() for x in engine.replace(\"/\", \" \").split()]\n",
    "    displacement_string = [x for x in engine_string if ((x[-1] == \"l\") & (x[0].isnumeric()))]\n",
    "    \n",
    "    if \"liter\" in engine_string:\n",
    "        i = engine_string.index(\"liter\")\n",
    "        engine_displacement_size = float(engine_string[i-1])\n",
    "    elif \"l\" in engine_string:\n",
    "        i = engine_string.index(\"l\")\n",
    "        engine_displacement_size = float(engine_string[i-1])\n",
    "    elif len(displacement_string) == 1:\n",
    "        engine_displacement_size = float(displacement_string[0][:-1])\n",
    "    else:\n",
    "        engine_displacement_size = 0.0\n",
    "    \n",
    "    return engine_displacement_size\n",
    "\n",
    "# Create a function to determine the displacement size category of the engine\n",
    "def get_engine_displacement(engine_displacement_size):\n",
    "    engine_displacement = \"–\"\n",
    "    \n",
    "    if engine_displacement_size > 0 and engine_displacement_size < 3.0:\n",
    "        engine_displacement = \"small\"\n",
    "    elif engine_displacement_size >= 3.0 and engine_displacement_size < 5.0:\n",
    "        engine_displacement = \"medium\"\n",
    "    elif engine_displacement_size >= 5.0:\n",
    "        engine_displacement = \"large\"\n",
    "    else:\n",
    "        engine_displacement = \"–\"\n",
    "    \n",
    "    return engine_displacement\n",
    "\n",
    "# Create a function to get the number of gears in the transmission\n",
    "def get_transmission_gears(transmission):\n",
    "    transmission_gears = \"–\"\n",
    "    \n",
    "    transmission_string = [x.lower() for x in transmission.replace(\"-\", \" \").split()]\n",
    "    \n",
    "    if \"speed\" in transmission_string:\n",
    "        i = transmission_string.index(\"speed\")\n",
    "        if transmission_string[i-1].isnumeric():\n",
    "            transmission_gears = transmission_string[i-1]\n",
    "        elif transmission_string[i-1] == \"single\":\n",
    "            transmission_gears = \"1\"\n",
    "        else:\n",
    "            transmission_gears = \"–\"\n",
    "    elif \"spd\" in transmission_string:\n",
    "        i = transmission_string.index(\"spd\")\n",
    "        if transmission_string[i-1].isnumeric():\n",
    "            transmission_gears = transmission_string[i-1]\n",
    "        else:\n",
    "            transmission_gears = \"–\"\n",
    "    elif transmission_string[0].isnumeric():\n",
    "        transmission_gears = transmission_string[0]\n",
    "    else:\n",
    "        transmission_gears = \"–\"\n",
    "    \n",
    "    return transmission_gears\n",
    "\n",
    "# Create a function to determine the transmission type\n",
    "def get_transmission_type(transmission):\n",
    "    transmission_type = \"–\"\n",
    "    \n",
    "    transmission_string = [x.lower() for x in transmission.replace(\"-\", \" \").replace(\",\", \"\").replace(\"/\", \"\").split()]\n",
    "    \n",
    "    if transmission == \"Transmission w/Dual Shift Mode\":\n",
    "        transmission_type = \"DCT\"\n",
    "    elif \"cvt\" in transmission_string or \"variable\" in transmission_string:\n",
    "        transmission_type = \"CVT\"\n",
    "    elif ((\"automatic\" in transmission_string \n",
    "          or \"at\" in transmission_string \n",
    "          or \"f\" in transmission_string \n",
    "          or \"auto\" in transmission_string \n",
    "          or transmission == \"Transmission Overdrive Switch\") \n",
    "          and (\"cvt\" not in transmission_string)):\n",
    "        transmission_type = \"Automatic\"\n",
    "    elif \"manual\" in transmission_string or \"mt\" in transmission_string:\n",
    "        transmission_type = \"Manual\"\n",
    "    else:\n",
    "        transmission_type = \"–\"\n",
    "    \n",
    "    return transmission_type"
   ]
  },
  {
   "cell_type": "code",
   "execution_count": 25,
   "id": "96855e85-71f6-4556-b84e-d98200bbe2b4",
   "metadata": {
    "tags": []
   },
   "outputs": [
    {
     "data": {
      "text/html": [
       "<div>\n",
       "<style scoped>\n",
       "    .dataframe tbody tr th:only-of-type {\n",
       "        vertical-align: middle;\n",
       "    }\n",
       "\n",
       "    .dataframe tbody tr th {\n",
       "        vertical-align: top;\n",
       "    }\n",
       "\n",
       "    .dataframe thead th {\n",
       "        text-align: right;\n",
       "    }\n",
       "</style>\n",
       "<table border=\"1\" class=\"dataframe\">\n",
       "  <thead>\n",
       "    <tr style=\"text-align: right;\">\n",
       "      <th></th>\n",
       "      <th>brand</th>\n",
       "      <th>model</th>\n",
       "      <th>fuel_type</th>\n",
       "      <th>accident</th>\n",
       "      <th>clean_title</th>\n",
       "      <th>price</th>\n",
       "      <th>age</th>\n",
       "      <th>kilometers</th>\n",
       "      <th>engine_cylinders</th>\n",
       "      <th>engine_power_output</th>\n",
       "      <th>electric</th>\n",
       "      <th>engine_displacement</th>\n",
       "      <th>transmission_gears</th>\n",
       "      <th>transmission_type</th>\n",
       "    </tr>\n",
       "  </thead>\n",
       "  <tbody>\n",
       "    <tr>\n",
       "      <th>0</th>\n",
       "      <td>Ford</td>\n",
       "      <td>Utility Police Interceptor Base</td>\n",
       "      <td>E85 Flex Fuel</td>\n",
       "      <td>1</td>\n",
       "      <td>1</td>\n",
       "      <td>10300.0</td>\n",
       "      <td>10</td>\n",
       "      <td>82077</td>\n",
       "      <td>6</td>\n",
       "      <td>medium</td>\n",
       "      <td>0</td>\n",
       "      <td>medium</td>\n",
       "      <td>6</td>\n",
       "      <td>Automatic</td>\n",
       "    </tr>\n",
       "    <tr>\n",
       "      <th>1</th>\n",
       "      <td>Hyundai</td>\n",
       "      <td>Palisade SEL</td>\n",
       "      <td>Gasoline</td>\n",
       "      <td>1</td>\n",
       "      <td>1</td>\n",
       "      <td>38005.0</td>\n",
       "      <td>2</td>\n",
       "      <td>55912</td>\n",
       "      <td>6</td>\n",
       "      <td>–</td>\n",
       "      <td>0</td>\n",
       "      <td>medium</td>\n",
       "      <td>8</td>\n",
       "      <td>Automatic</td>\n",
       "    </tr>\n",
       "    <tr>\n",
       "      <th>2</th>\n",
       "      <td>Lexus</td>\n",
       "      <td>RX 350 RX 350</td>\n",
       "      <td>Gasoline</td>\n",
       "      <td>0</td>\n",
       "      <td>0</td>\n",
       "      <td>54598.0</td>\n",
       "      <td>1</td>\n",
       "      <td>36004</td>\n",
       "      <td>–</td>\n",
       "      <td>–</td>\n",
       "      <td>0</td>\n",
       "      <td>medium</td>\n",
       "      <td>–</td>\n",
       "      <td>Automatic</td>\n",
       "    </tr>\n",
       "    <tr>\n",
       "      <th>3</th>\n",
       "      <td>INFINITI</td>\n",
       "      <td>Q50 Hybrid Sport</td>\n",
       "      <td>Hybrid</td>\n",
       "      <td>0</td>\n",
       "      <td>1</td>\n",
       "      <td>15500.0</td>\n",
       "      <td>8</td>\n",
       "      <td>143071</td>\n",
       "      <td>6</td>\n",
       "      <td>high</td>\n",
       "      <td>0</td>\n",
       "      <td>medium</td>\n",
       "      <td>7</td>\n",
       "      <td>Automatic</td>\n",
       "    </tr>\n",
       "    <tr>\n",
       "      <th>4</th>\n",
       "      <td>Audi</td>\n",
       "      <td>Q3 45 S line Premium Plus</td>\n",
       "      <td>Gasoline</td>\n",
       "      <td>0</td>\n",
       "      <td>0</td>\n",
       "      <td>34999.0</td>\n",
       "      <td>2</td>\n",
       "      <td>15828</td>\n",
       "      <td>4</td>\n",
       "      <td>–</td>\n",
       "      <td>0</td>\n",
       "      <td>small</td>\n",
       "      <td>8</td>\n",
       "      <td>Automatic</td>\n",
       "    </tr>\n",
       "  </tbody>\n",
       "</table>\n",
       "</div>"
      ],
      "text/plain": [
       "      brand                            model      fuel_type  accident  \\\n",
       "0      Ford  Utility Police Interceptor Base  E85 Flex Fuel         1   \n",
       "1   Hyundai                     Palisade SEL       Gasoline         1   \n",
       "2     Lexus                    RX 350 RX 350       Gasoline         0   \n",
       "3  INFINITI                 Q50 Hybrid Sport         Hybrid         0   \n",
       "4      Audi        Q3 45 S line Premium Plus       Gasoline         0   \n",
       "\n",
       "   clean_title    price  age  kilometers engine_cylinders engine_power_output  \\\n",
       "0            1  10300.0   10       82077                6              medium   \n",
       "1            1  38005.0    2       55912                6                   –   \n",
       "2            0  54598.0    1       36004                –                   –   \n",
       "3            1  15500.0    8      143071                6                high   \n",
       "4            0  34999.0    2       15828                4                   –   \n",
       "\n",
       "   electric engine_displacement transmission_gears transmission_type  \n",
       "0         0              medium                  6         Automatic  \n",
       "1         0              medium                  8         Automatic  \n",
       "2         0              medium                  –         Automatic  \n",
       "3         0              medium                  7         Automatic  \n",
       "4         0               small                  8         Automatic  "
      ]
     },
     "metadata": {},
     "output_type": "display_data"
    },
    {
     "data": {
      "text/html": [
       "<div>\n",
       "<style scoped>\n",
       "    .dataframe tbody tr th:only-of-type {\n",
       "        vertical-align: middle;\n",
       "    }\n",
       "\n",
       "    .dataframe tbody tr th {\n",
       "        vertical-align: top;\n",
       "    }\n",
       "\n",
       "    .dataframe thead th {\n",
       "        text-align: right;\n",
       "    }\n",
       "</style>\n",
       "<table border=\"1\" class=\"dataframe\">\n",
       "  <thead>\n",
       "    <tr style=\"text-align: right;\">\n",
       "      <th></th>\n",
       "      <th>brand</th>\n",
       "      <th>model</th>\n",
       "      <th>fuel_type</th>\n",
       "      <th>accident</th>\n",
       "      <th>clean_title</th>\n",
       "      <th>price</th>\n",
       "      <th>age</th>\n",
       "      <th>kilometers</th>\n",
       "      <th>engine_cylinders</th>\n",
       "      <th>engine_power_output</th>\n",
       "      <th>electric</th>\n",
       "      <th>engine_displacement</th>\n",
       "      <th>transmission_gears</th>\n",
       "      <th>transmission_type</th>\n",
       "    </tr>\n",
       "  </thead>\n",
       "  <tbody>\n",
       "    <tr>\n",
       "      <th>4004</th>\n",
       "      <td>Bentley</td>\n",
       "      <td>Continental GT Speed</td>\n",
       "      <td>Gasoline</td>\n",
       "      <td>0</td>\n",
       "      <td>1</td>\n",
       "      <td>349950.0</td>\n",
       "      <td>0</td>\n",
       "      <td>1149</td>\n",
       "      <td>12</td>\n",
       "      <td>–</td>\n",
       "      <td>0</td>\n",
       "      <td>large</td>\n",
       "      <td>8</td>\n",
       "      <td>Automatic</td>\n",
       "    </tr>\n",
       "    <tr>\n",
       "      <th>4005</th>\n",
       "      <td>Audi</td>\n",
       "      <td>S4 3.0T Premium Plus</td>\n",
       "      <td>Gasoline</td>\n",
       "      <td>0</td>\n",
       "      <td>1</td>\n",
       "      <td>53900.0</td>\n",
       "      <td>1</td>\n",
       "      <td>17542</td>\n",
       "      <td>6</td>\n",
       "      <td>high</td>\n",
       "      <td>0</td>\n",
       "      <td>medium</td>\n",
       "      <td>–</td>\n",
       "      <td>DCT</td>\n",
       "    </tr>\n",
       "    <tr>\n",
       "      <th>4006</th>\n",
       "      <td>Porsche</td>\n",
       "      <td>Taycan</td>\n",
       "      <td>–</td>\n",
       "      <td>0</td>\n",
       "      <td>0</td>\n",
       "      <td>90998.0</td>\n",
       "      <td>1</td>\n",
       "      <td>3405</td>\n",
       "      <td>–</td>\n",
       "      <td>–</td>\n",
       "      <td>1</td>\n",
       "      <td>–</td>\n",
       "      <td>–</td>\n",
       "      <td>Automatic</td>\n",
       "    </tr>\n",
       "    <tr>\n",
       "      <th>4007</th>\n",
       "      <td>Ford</td>\n",
       "      <td>F-150 Raptor</td>\n",
       "      <td>Gasoline</td>\n",
       "      <td>0</td>\n",
       "      <td>1</td>\n",
       "      <td>62999.0</td>\n",
       "      <td>3</td>\n",
       "      <td>53108</td>\n",
       "      <td>6</td>\n",
       "      <td>high</td>\n",
       "      <td>0</td>\n",
       "      <td>medium</td>\n",
       "      <td>–</td>\n",
       "      <td>Automatic</td>\n",
       "    </tr>\n",
       "    <tr>\n",
       "      <th>4008</th>\n",
       "      <td>BMW</td>\n",
       "      <td>X3 xDrive30i</td>\n",
       "      <td>Gasoline</td>\n",
       "      <td>1</td>\n",
       "      <td>1</td>\n",
       "      <td>40000.0</td>\n",
       "      <td>3</td>\n",
       "      <td>69202</td>\n",
       "      <td>4</td>\n",
       "      <td>medium</td>\n",
       "      <td>0</td>\n",
       "      <td>small</td>\n",
       "      <td>–</td>\n",
       "      <td>Automatic</td>\n",
       "    </tr>\n",
       "  </tbody>\n",
       "</table>\n",
       "</div>"
      ],
      "text/plain": [
       "        brand                 model fuel_type  accident  clean_title  \\\n",
       "4004  Bentley  Continental GT Speed  Gasoline         0            1   \n",
       "4005     Audi  S4 3.0T Premium Plus  Gasoline         0            1   \n",
       "4006  Porsche                Taycan         –         0            0   \n",
       "4007     Ford          F-150 Raptor  Gasoline         0            1   \n",
       "4008      BMW          X3 xDrive30i  Gasoline         1            1   \n",
       "\n",
       "         price  age  kilometers engine_cylinders engine_power_output  \\\n",
       "4004  349950.0    0        1149               12                   –   \n",
       "4005   53900.0    1       17542                6                high   \n",
       "4006   90998.0    1        3405                –                   –   \n",
       "4007   62999.0    3       53108                6                high   \n",
       "4008   40000.0    3       69202                4              medium   \n",
       "\n",
       "      electric engine_displacement transmission_gears transmission_type  \n",
       "4004         0               large                  8         Automatic  \n",
       "4005         0              medium                  –               DCT  \n",
       "4006         1                   –                  –         Automatic  \n",
       "4007         0              medium                  –         Automatic  \n",
       "4008         0               small                  –         Automatic  "
      ]
     },
     "metadata": {},
     "output_type": "display_data"
    }
   ],
   "source": [
    "# Clean the used_cars DataFrame\n",
    "clean_used_cars_df = clean_used_cars(used_cars_df)\n",
    "\n",
    "# Show the cleaned used_cars DataFrame\n",
    "display(clean_used_cars_df.head())\n",
    "display(clean_used_cars_df.tail())"
   ]
  }
 ],
 "metadata": {
  "kernelspec": {
   "display_name": "Python 3 (ipykernel)",
   "language": "python",
   "name": "python3"
  },
  "language_info": {
   "codemirror_mode": {
    "name": "ipython",
    "version": 3
   },
   "file_extension": ".py",
   "mimetype": "text/x-python",
   "name": "python",
   "nbconvert_exporter": "python",
   "pygments_lexer": "ipython3",
   "version": "3.10.12"
  }
 },
 "nbformat": 4,
 "nbformat_minor": 5
}
